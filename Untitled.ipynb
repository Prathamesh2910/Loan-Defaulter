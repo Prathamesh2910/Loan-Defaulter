{
 "cells": [
  {
   "cell_type": "code",
   "execution_count": 4,
   "id": "0dfd799b",
   "metadata": {},
   "outputs": [],
   "source": [
    "import pandas as pd\n",
    "import numpy as np"
   ]
  },
  {
   "cell_type": "code",
   "execution_count": 5,
   "id": "e8ec17e4",
   "metadata": {},
   "outputs": [],
   "source": [
    "loan_prediction = pd.read_csv ('Loan.train.csv')"
   ]
  },
  {
   "cell_type": "code",
   "execution_count": 6,
   "id": "5341b000",
   "metadata": {},
   "outputs": [
    {
     "data": {
      "text/html": [
       "<div>\n",
       "<style scoped>\n",
       "    .dataframe tbody tr th:only-of-type {\n",
       "        vertical-align: middle;\n",
       "    }\n",
       "\n",
       "    .dataframe tbody tr th {\n",
       "        vertical-align: top;\n",
       "    }\n",
       "\n",
       "    .dataframe thead th {\n",
       "        text-align: right;\n",
       "    }\n",
       "</style>\n",
       "<table border=\"1\" class=\"dataframe\">\n",
       "  <thead>\n",
       "    <tr style=\"text-align: right;\">\n",
       "      <th></th>\n",
       "      <th>Id</th>\n",
       "      <th>Home_Ownership</th>\n",
       "      <th>Annual_Income</th>\n",
       "      <th>Years_in_current_job</th>\n",
       "      <th>Tax_Liens</th>\n",
       "      <th>Number_of_Open_Accounts</th>\n",
       "      <th>Years_of_Credit_History</th>\n",
       "      <th>Maximum_Open_Credit</th>\n",
       "      <th>Number_of_Credit_Problems</th>\n",
       "      <th>Months_since_last_delinquent</th>\n",
       "      <th>Bankruptcies</th>\n",
       "      <th>Purpose</th>\n",
       "      <th>Term</th>\n",
       "      <th>Current_Loan_Amount</th>\n",
       "      <th>Current_Credit_Balance</th>\n",
       "      <th>Monthly_Debt</th>\n",
       "      <th>Credit_Score</th>\n",
       "      <th>Credit_Default</th>\n",
       "    </tr>\n",
       "  </thead>\n",
       "  <tbody>\n",
       "    <tr>\n",
       "      <th>0</th>\n",
       "      <td>0</td>\n",
       "      <td>Own Home</td>\n",
       "      <td>482087.0</td>\n",
       "      <td>NaN</td>\n",
       "      <td>0</td>\n",
       "      <td>11</td>\n",
       "      <td>26.3</td>\n",
       "      <td>685960</td>\n",
       "      <td>1</td>\n",
       "      <td>NaN</td>\n",
       "      <td>1.0</td>\n",
       "      <td>debt consolidation</td>\n",
       "      <td>Short Term</td>\n",
       "      <td>99999999</td>\n",
       "      <td>47386</td>\n",
       "      <td>7914</td>\n",
       "      <td>749.0</td>\n",
       "      <td>0</td>\n",
       "    </tr>\n",
       "    <tr>\n",
       "      <th>1</th>\n",
       "      <td>1</td>\n",
       "      <td>Own Home</td>\n",
       "      <td>1025487.0</td>\n",
       "      <td>10+ years</td>\n",
       "      <td>0</td>\n",
       "      <td>15</td>\n",
       "      <td>15.3</td>\n",
       "      <td>1181730</td>\n",
       "      <td>0</td>\n",
       "      <td>NaN</td>\n",
       "      <td>0.0</td>\n",
       "      <td>debt consolidation</td>\n",
       "      <td>Long Term</td>\n",
       "      <td>264968</td>\n",
       "      <td>394972</td>\n",
       "      <td>18373</td>\n",
       "      <td>737.0</td>\n",
       "      <td>1</td>\n",
       "    </tr>\n",
       "    <tr>\n",
       "      <th>2</th>\n",
       "      <td>2</td>\n",
       "      <td>Home Mortgage</td>\n",
       "      <td>751412.0</td>\n",
       "      <td>8 years</td>\n",
       "      <td>0</td>\n",
       "      <td>11</td>\n",
       "      <td>35.0</td>\n",
       "      <td>1182434</td>\n",
       "      <td>0</td>\n",
       "      <td>NaN</td>\n",
       "      <td>0.0</td>\n",
       "      <td>debt consolidation</td>\n",
       "      <td>Short Term</td>\n",
       "      <td>99999999</td>\n",
       "      <td>308389</td>\n",
       "      <td>13651</td>\n",
       "      <td>742.0</td>\n",
       "      <td>0</td>\n",
       "    </tr>\n",
       "    <tr>\n",
       "      <th>3</th>\n",
       "      <td>3</td>\n",
       "      <td>Own Home</td>\n",
       "      <td>805068.0</td>\n",
       "      <td>6 years</td>\n",
       "      <td>0</td>\n",
       "      <td>8</td>\n",
       "      <td>22.5</td>\n",
       "      <td>147400</td>\n",
       "      <td>1</td>\n",
       "      <td>NaN</td>\n",
       "      <td>1.0</td>\n",
       "      <td>debt consolidation</td>\n",
       "      <td>Short Term</td>\n",
       "      <td>121396</td>\n",
       "      <td>95855</td>\n",
       "      <td>11338</td>\n",
       "      <td>694.0</td>\n",
       "      <td>0</td>\n",
       "    </tr>\n",
       "    <tr>\n",
       "      <th>4</th>\n",
       "      <td>4</td>\n",
       "      <td>Rent</td>\n",
       "      <td>776264.0</td>\n",
       "      <td>8 years</td>\n",
       "      <td>0</td>\n",
       "      <td>13</td>\n",
       "      <td>13.6</td>\n",
       "      <td>385836</td>\n",
       "      <td>1</td>\n",
       "      <td>NaN</td>\n",
       "      <td>0.0</td>\n",
       "      <td>debt consolidation</td>\n",
       "      <td>Short Term</td>\n",
       "      <td>125840</td>\n",
       "      <td>93309</td>\n",
       "      <td>7180</td>\n",
       "      <td>719.0</td>\n",
       "      <td>0</td>\n",
       "    </tr>\n",
       "  </tbody>\n",
       "</table>\n",
       "</div>"
      ],
      "text/plain": [
       "   Id Home_Ownership  Annual_Income Years_in_current_job  Tax_Liens  \\\n",
       "0   0       Own Home       482087.0                  NaN          0   \n",
       "1   1       Own Home      1025487.0            10+ years          0   \n",
       "2   2  Home Mortgage       751412.0              8 years          0   \n",
       "3   3       Own Home       805068.0              6 years          0   \n",
       "4   4           Rent       776264.0              8 years          0   \n",
       "\n",
       "   Number_of_Open_Accounts  Years_of_Credit_History  Maximum_Open_Credit  \\\n",
       "0                       11                     26.3               685960   \n",
       "1                       15                     15.3              1181730   \n",
       "2                       11                     35.0              1182434   \n",
       "3                        8                     22.5               147400   \n",
       "4                       13                     13.6               385836   \n",
       "\n",
       "   Number_of_Credit_Problems  Months_since_last_delinquent  Bankruptcies  \\\n",
       "0                          1                           NaN           1.0   \n",
       "1                          0                           NaN           0.0   \n",
       "2                          0                           NaN           0.0   \n",
       "3                          1                           NaN           1.0   \n",
       "4                          1                           NaN           0.0   \n",
       "\n",
       "              Purpose        Term  Current_Loan_Amount  \\\n",
       "0  debt consolidation  Short Term             99999999   \n",
       "1  debt consolidation   Long Term               264968   \n",
       "2  debt consolidation  Short Term             99999999   \n",
       "3  debt consolidation  Short Term               121396   \n",
       "4  debt consolidation  Short Term               125840   \n",
       "\n",
       "   Current_Credit_Balance  Monthly_Debt  Credit_Score  Credit_Default  \n",
       "0                   47386          7914         749.0               0  \n",
       "1                  394972         18373         737.0               1  \n",
       "2                  308389         13651         742.0               0  \n",
       "3                   95855         11338         694.0               0  \n",
       "4                   93309          7180         719.0               0  "
      ]
     },
     "execution_count": 6,
     "metadata": {},
     "output_type": "execute_result"
    }
   ],
   "source": [
    "loan_prediction.head()"
   ]
  },
  {
   "cell_type": "code",
   "execution_count": 7,
   "id": "63e3d9be",
   "metadata": {},
   "outputs": [
    {
     "data": {
      "text/html": [
       "<div>\n",
       "<style scoped>\n",
       "    .dataframe tbody tr th:only-of-type {\n",
       "        vertical-align: middle;\n",
       "    }\n",
       "\n",
       "    .dataframe tbody tr th {\n",
       "        vertical-align: top;\n",
       "    }\n",
       "\n",
       "    .dataframe thead th {\n",
       "        text-align: right;\n",
       "    }\n",
       "</style>\n",
       "<table border=\"1\" class=\"dataframe\">\n",
       "  <thead>\n",
       "    <tr style=\"text-align: right;\">\n",
       "      <th></th>\n",
       "      <th>Id</th>\n",
       "      <th>Home_Ownership</th>\n",
       "      <th>Annual_Income</th>\n",
       "      <th>Years_in_current_job</th>\n",
       "      <th>Tax_Liens</th>\n",
       "      <th>Number_of_Open_Accounts</th>\n",
       "      <th>Years_of_Credit_History</th>\n",
       "      <th>Maximum_Open_Credit</th>\n",
       "      <th>Number_of_Credit_Problems</th>\n",
       "      <th>Months_since_last_delinquent</th>\n",
       "      <th>Bankruptcies</th>\n",
       "      <th>Purpose</th>\n",
       "      <th>Term</th>\n",
       "      <th>Current_Loan_Amount</th>\n",
       "      <th>Current_Credit_Balance</th>\n",
       "      <th>Monthly_Debt</th>\n",
       "      <th>Credit_Score</th>\n",
       "      <th>Credit_Default</th>\n",
       "    </tr>\n",
       "  </thead>\n",
       "  <tbody>\n",
       "    <tr>\n",
       "      <th>7495</th>\n",
       "      <td>7495</td>\n",
       "      <td>Rent</td>\n",
       "      <td>402192.0</td>\n",
       "      <td>&lt; 1 year</td>\n",
       "      <td>0</td>\n",
       "      <td>3</td>\n",
       "      <td>8.5</td>\n",
       "      <td>107866</td>\n",
       "      <td>0</td>\n",
       "      <td>NaN</td>\n",
       "      <td>0.0</td>\n",
       "      <td>other</td>\n",
       "      <td>Short Term</td>\n",
       "      <td>129360</td>\n",
       "      <td>73492</td>\n",
       "      <td>1900</td>\n",
       "      <td>697.0</td>\n",
       "      <td>0</td>\n",
       "    </tr>\n",
       "    <tr>\n",
       "      <th>7496</th>\n",
       "      <td>7496</td>\n",
       "      <td>Home Mortgage</td>\n",
       "      <td>1533984.0</td>\n",
       "      <td>1 year</td>\n",
       "      <td>0</td>\n",
       "      <td>10</td>\n",
       "      <td>26.5</td>\n",
       "      <td>686312</td>\n",
       "      <td>0</td>\n",
       "      <td>43.0</td>\n",
       "      <td>0.0</td>\n",
       "      <td>debt consolidation</td>\n",
       "      <td>Long Term</td>\n",
       "      <td>444048</td>\n",
       "      <td>456399</td>\n",
       "      <td>12783</td>\n",
       "      <td>7410.0</td>\n",
       "      <td>1</td>\n",
       "    </tr>\n",
       "    <tr>\n",
       "      <th>7497</th>\n",
       "      <td>7497</td>\n",
       "      <td>Rent</td>\n",
       "      <td>1878910.0</td>\n",
       "      <td>6 years</td>\n",
       "      <td>0</td>\n",
       "      <td>12</td>\n",
       "      <td>32.1</td>\n",
       "      <td>1778920</td>\n",
       "      <td>0</td>\n",
       "      <td>NaN</td>\n",
       "      <td>0.0</td>\n",
       "      <td>buy a car</td>\n",
       "      <td>Short Term</td>\n",
       "      <td>99999999</td>\n",
       "      <td>477812</td>\n",
       "      <td>12479</td>\n",
       "      <td>748.0</td>\n",
       "      <td>0</td>\n",
       "    </tr>\n",
       "    <tr>\n",
       "      <th>7498</th>\n",
       "      <td>7498</td>\n",
       "      <td>Home Mortgage</td>\n",
       "      <td>NaN</td>\n",
       "      <td>NaN</td>\n",
       "      <td>0</td>\n",
       "      <td>21</td>\n",
       "      <td>26.5</td>\n",
       "      <td>1141250</td>\n",
       "      <td>0</td>\n",
       "      <td>NaN</td>\n",
       "      <td>0.0</td>\n",
       "      <td>debt consolidation</td>\n",
       "      <td>Short Term</td>\n",
       "      <td>615274</td>\n",
       "      <td>476064</td>\n",
       "      <td>37118</td>\n",
       "      <td>NaN</td>\n",
       "      <td>0</td>\n",
       "    </tr>\n",
       "    <tr>\n",
       "      <th>7499</th>\n",
       "      <td>7499</td>\n",
       "      <td>Rent</td>\n",
       "      <td>NaN</td>\n",
       "      <td>4 years</td>\n",
       "      <td>0</td>\n",
       "      <td>8</td>\n",
       "      <td>9.4</td>\n",
       "      <td>480832</td>\n",
       "      <td>0</td>\n",
       "      <td>NaN</td>\n",
       "      <td>0.0</td>\n",
       "      <td>debt consolidation</td>\n",
       "      <td>Short Term</td>\n",
       "      <td>26928</td>\n",
       "      <td>288192</td>\n",
       "      <td>9061</td>\n",
       "      <td>NaN</td>\n",
       "      <td>0</td>\n",
       "    </tr>\n",
       "  </tbody>\n",
       "</table>\n",
       "</div>"
      ],
      "text/plain": [
       "        Id Home_Ownership  Annual_Income Years_in_current_job  Tax_Liens  \\\n",
       "7495  7495           Rent       402192.0             < 1 year          0   \n",
       "7496  7496  Home Mortgage      1533984.0               1 year          0   \n",
       "7497  7497           Rent      1878910.0              6 years          0   \n",
       "7498  7498  Home Mortgage            NaN                  NaN          0   \n",
       "7499  7499           Rent            NaN              4 years          0   \n",
       "\n",
       "      Number_of_Open_Accounts  Years_of_Credit_History  Maximum_Open_Credit  \\\n",
       "7495                        3                      8.5               107866   \n",
       "7496                       10                     26.5               686312   \n",
       "7497                       12                     32.1              1778920   \n",
       "7498                       21                     26.5              1141250   \n",
       "7499                        8                      9.4               480832   \n",
       "\n",
       "      Number_of_Credit_Problems  Months_since_last_delinquent  Bankruptcies  \\\n",
       "7495                          0                           NaN           0.0   \n",
       "7496                          0                          43.0           0.0   \n",
       "7497                          0                           NaN           0.0   \n",
       "7498                          0                           NaN           0.0   \n",
       "7499                          0                           NaN           0.0   \n",
       "\n",
       "                 Purpose        Term  Current_Loan_Amount  \\\n",
       "7495               other  Short Term               129360   \n",
       "7496  debt consolidation   Long Term               444048   \n",
       "7497           buy a car  Short Term             99999999   \n",
       "7498  debt consolidation  Short Term               615274   \n",
       "7499  debt consolidation  Short Term                26928   \n",
       "\n",
       "      Current_Credit_Balance  Monthly_Debt  Credit_Score  Credit_Default  \n",
       "7495                   73492          1900         697.0               0  \n",
       "7496                  456399         12783        7410.0               1  \n",
       "7497                  477812         12479         748.0               0  \n",
       "7498                  476064         37118           NaN               0  \n",
       "7499                  288192          9061           NaN               0  "
      ]
     },
     "execution_count": 7,
     "metadata": {},
     "output_type": "execute_result"
    }
   ],
   "source": [
    "loan_prediction.tail()"
   ]
  },
  {
   "cell_type": "code",
   "execution_count": 8,
   "id": "fb377e35",
   "metadata": {},
   "outputs": [
    {
     "data": {
      "text/plain": [
       "(7500, 18)"
      ]
     },
     "execution_count": 8,
     "metadata": {},
     "output_type": "execute_result"
    }
   ],
   "source": [
    "loan_prediction.shape"
   ]
  },
  {
   "cell_type": "code",
   "execution_count": 9,
   "id": "a3dfa140",
   "metadata": {},
   "outputs": [
    {
     "data": {
      "text/plain": [
       "Index(['Id', 'Home_Ownership', 'Annual_Income', 'Years_in_current_job',\n",
       "       'Tax_Liens', 'Number_of_Open_Accounts', 'Years_of_Credit_History',\n",
       "       'Maximum_Open_Credit', 'Number_of_Credit_Problems',\n",
       "       'Months_since_last_delinquent', 'Bankruptcies', 'Purpose', 'Term',\n",
       "       'Current_Loan_Amount', 'Current_Credit_Balance', 'Monthly_Debt',\n",
       "       'Credit_Score', 'Credit_Default'],\n",
       "      dtype='object')"
      ]
     },
     "execution_count": 9,
     "metadata": {},
     "output_type": "execute_result"
    }
   ],
   "source": [
    "loan_prediction.columns"
   ]
  },
  {
   "cell_type": "code",
   "execution_count": 10,
   "id": "b9907e9f",
   "metadata": {},
   "outputs": [
    {
     "data": {
      "text/html": [
       "<div>\n",
       "<style scoped>\n",
       "    .dataframe tbody tr th:only-of-type {\n",
       "        vertical-align: middle;\n",
       "    }\n",
       "\n",
       "    .dataframe tbody tr th {\n",
       "        vertical-align: top;\n",
       "    }\n",
       "\n",
       "    .dataframe thead th {\n",
       "        text-align: right;\n",
       "    }\n",
       "</style>\n",
       "<table border=\"1\" class=\"dataframe\">\n",
       "  <thead>\n",
       "    <tr style=\"text-align: right;\">\n",
       "      <th></th>\n",
       "      <th>Id</th>\n",
       "      <th>Annual_Income</th>\n",
       "      <th>Tax_Liens</th>\n",
       "      <th>Number_of_Open_Accounts</th>\n",
       "      <th>Years_of_Credit_History</th>\n",
       "      <th>Maximum_Open_Credit</th>\n",
       "      <th>Number_of_Credit_Problems</th>\n",
       "      <th>Months_since_last_delinquent</th>\n",
       "      <th>Bankruptcies</th>\n",
       "      <th>Current_Loan_Amount</th>\n",
       "      <th>Current_Credit_Balance</th>\n",
       "      <th>Monthly_Debt</th>\n",
       "      <th>Credit_Score</th>\n",
       "      <th>Credit_Default</th>\n",
       "    </tr>\n",
       "  </thead>\n",
       "  <tbody>\n",
       "    <tr>\n",
       "      <th>count</th>\n",
       "      <td>7500.000000</td>\n",
       "      <td>5.943000e+03</td>\n",
       "      <td>7500.000000</td>\n",
       "      <td>7500.000000</td>\n",
       "      <td>7500.000000</td>\n",
       "      <td>7.500000e+03</td>\n",
       "      <td>7500.000000</td>\n",
       "      <td>3419.000000</td>\n",
       "      <td>7486.000000</td>\n",
       "      <td>7.500000e+03</td>\n",
       "      <td>7.500000e+03</td>\n",
       "      <td>7500.000000</td>\n",
       "      <td>5943.000000</td>\n",
       "      <td>7500.000000</td>\n",
       "    </tr>\n",
       "    <tr>\n",
       "      <th>mean</th>\n",
       "      <td>3749.500000</td>\n",
       "      <td>1.366392e+06</td>\n",
       "      <td>0.030133</td>\n",
       "      <td>11.130933</td>\n",
       "      <td>18.317467</td>\n",
       "      <td>9.451537e+05</td>\n",
       "      <td>0.170000</td>\n",
       "      <td>34.692600</td>\n",
       "      <td>0.117152</td>\n",
       "      <td>1.187318e+07</td>\n",
       "      <td>2.898332e+05</td>\n",
       "      <td>18314.454133</td>\n",
       "      <td>1151.087498</td>\n",
       "      <td>0.281733</td>\n",
       "    </tr>\n",
       "    <tr>\n",
       "      <th>std</th>\n",
       "      <td>2165.207842</td>\n",
       "      <td>8.453392e+05</td>\n",
       "      <td>0.271604</td>\n",
       "      <td>4.908924</td>\n",
       "      <td>7.041946</td>\n",
       "      <td>1.602622e+07</td>\n",
       "      <td>0.498598</td>\n",
       "      <td>21.688806</td>\n",
       "      <td>0.347192</td>\n",
       "      <td>3.192612e+07</td>\n",
       "      <td>3.178714e+05</td>\n",
       "      <td>11926.764673</td>\n",
       "      <td>1604.451418</td>\n",
       "      <td>0.449874</td>\n",
       "    </tr>\n",
       "    <tr>\n",
       "      <th>min</th>\n",
       "      <td>0.000000</td>\n",
       "      <td>1.645970e+05</td>\n",
       "      <td>0.000000</td>\n",
       "      <td>2.000000</td>\n",
       "      <td>4.000000</td>\n",
       "      <td>0.000000e+00</td>\n",
       "      <td>0.000000</td>\n",
       "      <td>0.000000</td>\n",
       "      <td>0.000000</td>\n",
       "      <td>1.124200e+04</td>\n",
       "      <td>0.000000e+00</td>\n",
       "      <td>0.000000</td>\n",
       "      <td>585.000000</td>\n",
       "      <td>0.000000</td>\n",
       "    </tr>\n",
       "    <tr>\n",
       "      <th>25%</th>\n",
       "      <td>1874.750000</td>\n",
       "      <td>8.443410e+05</td>\n",
       "      <td>0.000000</td>\n",
       "      <td>8.000000</td>\n",
       "      <td>13.500000</td>\n",
       "      <td>2.792295e+05</td>\n",
       "      <td>0.000000</td>\n",
       "      <td>16.000000</td>\n",
       "      <td>0.000000</td>\n",
       "      <td>1.801690e+05</td>\n",
       "      <td>1.142565e+05</td>\n",
       "      <td>10067.500000</td>\n",
       "      <td>711.000000</td>\n",
       "      <td>0.000000</td>\n",
       "    </tr>\n",
       "    <tr>\n",
       "      <th>50%</th>\n",
       "      <td>3749.500000</td>\n",
       "      <td>1.168386e+06</td>\n",
       "      <td>0.000000</td>\n",
       "      <td>10.000000</td>\n",
       "      <td>17.000000</td>\n",
       "      <td>4.781590e+05</td>\n",
       "      <td>0.000000</td>\n",
       "      <td>32.000000</td>\n",
       "      <td>0.000000</td>\n",
       "      <td>3.095730e+05</td>\n",
       "      <td>2.093230e+05</td>\n",
       "      <td>16076.500000</td>\n",
       "      <td>731.000000</td>\n",
       "      <td>0.000000</td>\n",
       "    </tr>\n",
       "    <tr>\n",
       "      <th>75%</th>\n",
       "      <td>5624.250000</td>\n",
       "      <td>1.640137e+06</td>\n",
       "      <td>0.000000</td>\n",
       "      <td>14.000000</td>\n",
       "      <td>21.800000</td>\n",
       "      <td>7.935015e+05</td>\n",
       "      <td>0.000000</td>\n",
       "      <td>50.000000</td>\n",
       "      <td>0.000000</td>\n",
       "      <td>5.198820e+05</td>\n",
       "      <td>3.604062e+05</td>\n",
       "      <td>23818.000000</td>\n",
       "      <td>743.000000</td>\n",
       "      <td>1.000000</td>\n",
       "    </tr>\n",
       "    <tr>\n",
       "      <th>max</th>\n",
       "      <td>7499.000000</td>\n",
       "      <td>1.014934e+07</td>\n",
       "      <td>7.000000</td>\n",
       "      <td>43.000000</td>\n",
       "      <td>57.700000</td>\n",
       "      <td>1.304726e+09</td>\n",
       "      <td>7.000000</td>\n",
       "      <td>118.000000</td>\n",
       "      <td>4.000000</td>\n",
       "      <td>1.000000e+08</td>\n",
       "      <td>6.506797e+06</td>\n",
       "      <td>136679.000000</td>\n",
       "      <td>7510.000000</td>\n",
       "      <td>1.000000</td>\n",
       "    </tr>\n",
       "  </tbody>\n",
       "</table>\n",
       "</div>"
      ],
      "text/plain": [
       "                Id  Annual_Income    Tax_Liens  Number_of_Open_Accounts  \\\n",
       "count  7500.000000   5.943000e+03  7500.000000              7500.000000   \n",
       "mean   3749.500000   1.366392e+06     0.030133                11.130933   \n",
       "std    2165.207842   8.453392e+05     0.271604                 4.908924   \n",
       "min       0.000000   1.645970e+05     0.000000                 2.000000   \n",
       "25%    1874.750000   8.443410e+05     0.000000                 8.000000   \n",
       "50%    3749.500000   1.168386e+06     0.000000                10.000000   \n",
       "75%    5624.250000   1.640137e+06     0.000000                14.000000   \n",
       "max    7499.000000   1.014934e+07     7.000000                43.000000   \n",
       "\n",
       "       Years_of_Credit_History  Maximum_Open_Credit  \\\n",
       "count              7500.000000         7.500000e+03   \n",
       "mean                 18.317467         9.451537e+05   \n",
       "std                   7.041946         1.602622e+07   \n",
       "min                   4.000000         0.000000e+00   \n",
       "25%                  13.500000         2.792295e+05   \n",
       "50%                  17.000000         4.781590e+05   \n",
       "75%                  21.800000         7.935015e+05   \n",
       "max                  57.700000         1.304726e+09   \n",
       "\n",
       "       Number_of_Credit_Problems  Months_since_last_delinquent  Bankruptcies  \\\n",
       "count                7500.000000                   3419.000000   7486.000000   \n",
       "mean                    0.170000                     34.692600      0.117152   \n",
       "std                     0.498598                     21.688806      0.347192   \n",
       "min                     0.000000                      0.000000      0.000000   \n",
       "25%                     0.000000                     16.000000      0.000000   \n",
       "50%                     0.000000                     32.000000      0.000000   \n",
       "75%                     0.000000                     50.000000      0.000000   \n",
       "max                     7.000000                    118.000000      4.000000   \n",
       "\n",
       "       Current_Loan_Amount  Current_Credit_Balance   Monthly_Debt  \\\n",
       "count         7.500000e+03            7.500000e+03    7500.000000   \n",
       "mean          1.187318e+07            2.898332e+05   18314.454133   \n",
       "std           3.192612e+07            3.178714e+05   11926.764673   \n",
       "min           1.124200e+04            0.000000e+00       0.000000   \n",
       "25%           1.801690e+05            1.142565e+05   10067.500000   \n",
       "50%           3.095730e+05            2.093230e+05   16076.500000   \n",
       "75%           5.198820e+05            3.604062e+05   23818.000000   \n",
       "max           1.000000e+08            6.506797e+06  136679.000000   \n",
       "\n",
       "       Credit_Score  Credit_Default  \n",
       "count   5943.000000     7500.000000  \n",
       "mean    1151.087498        0.281733  \n",
       "std     1604.451418        0.449874  \n",
       "min      585.000000        0.000000  \n",
       "25%      711.000000        0.000000  \n",
       "50%      731.000000        0.000000  \n",
       "75%      743.000000        1.000000  \n",
       "max     7510.000000        1.000000  "
      ]
     },
     "execution_count": 10,
     "metadata": {},
     "output_type": "execute_result"
    }
   ],
   "source": [
    "loan_prediction.describe()"
   ]
  },
  {
   "cell_type": "code",
   "execution_count": 11,
   "id": "2c61a427",
   "metadata": {},
   "outputs": [
    {
     "data": {
      "text/plain": [
       "Id                                 0\n",
       "Home_Ownership                     0\n",
       "Annual_Income                   1557\n",
       "Years_in_current_job             371\n",
       "Tax_Liens                          0\n",
       "Number_of_Open_Accounts            0\n",
       "Years_of_Credit_History            0\n",
       "Maximum_Open_Credit                0\n",
       "Number_of_Credit_Problems          0\n",
       "Months_since_last_delinquent    4081\n",
       "Bankruptcies                      14\n",
       "Purpose                            0\n",
       "Term                               0\n",
       "Current_Loan_Amount                0\n",
       "Current_Credit_Balance             0\n",
       "Monthly_Debt                       0\n",
       "Credit_Score                    1557\n",
       "Credit_Default                     0\n",
       "dtype: int64"
      ]
     },
     "execution_count": 11,
     "metadata": {},
     "output_type": "execute_result"
    }
   ],
   "source": [
    "loan_prediction.isnull().sum()"
   ]
  },
  {
   "cell_type": "code",
   "execution_count": 12,
   "id": "1a6150a5",
   "metadata": {},
   "outputs": [],
   "source": [
    "import math"
   ]
  },
  {
   "cell_type": "code",
   "execution_count": 13,
   "id": "fdda0115",
   "metadata": {},
   "outputs": [
    {
     "data": {
      "text/plain": [
       "0.0"
      ]
     },
     "execution_count": 13,
     "metadata": {},
     "output_type": "execute_result"
    }
   ],
   "source": [
    "loan_prediction.Bankruptcies.median()"
   ]
  },
  {
   "cell_type": "code",
   "execution_count": 14,
   "id": "2751858a",
   "metadata": {},
   "outputs": [],
   "source": [
    "loan_prediction.Bankruptcies=loan_prediction.Bankruptcies.fillna(loan_prediction.Bankruptcies.median())"
   ]
  },
  {
   "cell_type": "code",
   "execution_count": 15,
   "id": "83f2e5d1",
   "metadata": {},
   "outputs": [
    {
     "data": {
      "text/plain": [
       "1168386.0"
      ]
     },
     "execution_count": 15,
     "metadata": {},
     "output_type": "execute_result"
    }
   ],
   "source": [
    "loan_prediction.Annual_Income.median()"
   ]
  },
  {
   "cell_type": "code",
   "execution_count": 16,
   "id": "fe7c6de2",
   "metadata": {},
   "outputs": [
    {
     "data": {
      "text/plain": [
       "32.0"
      ]
     },
     "execution_count": 16,
     "metadata": {},
     "output_type": "execute_result"
    }
   ],
   "source": [
    "loan_prediction.Months_since_last_delinquent.median()"
   ]
  },
  {
   "cell_type": "code",
   "execution_count": 17,
   "id": "706c166a",
   "metadata": {},
   "outputs": [
    {
     "data": {
      "text/plain": [
       "731.0"
      ]
     },
     "execution_count": 17,
     "metadata": {},
     "output_type": "execute_result"
    }
   ],
   "source": [
    "loan_prediction.Credit_Score.median()"
   ]
  },
  {
   "cell_type": "code",
   "execution_count": 18,
   "id": "f0fe101e",
   "metadata": {},
   "outputs": [],
   "source": [
    "loan_prediction.Annual_Income=loan_prediction.Annual_Income.fillna(loan_prediction.Annual_Income.median())"
   ]
  },
  {
   "cell_type": "code",
   "execution_count": 19,
   "id": "490c788a",
   "metadata": {},
   "outputs": [],
   "source": [
    "loan_prediction.Months_since_last_delinquent=loan_prediction.Months_since_last_delinquent.fillna(loan_prediction.Months_since_last_delinquent.median())"
   ]
  },
  {
   "cell_type": "code",
   "execution_count": 20,
   "id": "7605e238",
   "metadata": {},
   "outputs": [],
   "source": [
    "loan_prediction.Credit_Score=loan_prediction.Credit_Score.fillna(loan_prediction.Credit_Score.median())"
   ]
  },
  {
   "cell_type": "code",
   "execution_count": 21,
   "id": "9a451e56",
   "metadata": {},
   "outputs": [
    {
     "data": {
      "text/plain": [
       "Id                                0\n",
       "Home_Ownership                    0\n",
       "Annual_Income                     0\n",
       "Years_in_current_job            371\n",
       "Tax_Liens                         0\n",
       "Number_of_Open_Accounts           0\n",
       "Years_of_Credit_History           0\n",
       "Maximum_Open_Credit               0\n",
       "Number_of_Credit_Problems         0\n",
       "Months_since_last_delinquent      0\n",
       "Bankruptcies                      0\n",
       "Purpose                           0\n",
       "Term                              0\n",
       "Current_Loan_Amount               0\n",
       "Current_Credit_Balance            0\n",
       "Monthly_Debt                      0\n",
       "Credit_Score                      0\n",
       "Credit_Default                    0\n",
       "dtype: int64"
      ]
     },
     "execution_count": 21,
     "metadata": {},
     "output_type": "execute_result"
    }
   ],
   "source": [
    "loan_prediction.isnull().sum()"
   ]
  },
  {
   "cell_type": "code",
   "execution_count": 22,
   "id": "eb61bfcb",
   "metadata": {},
   "outputs": [],
   "source": [
    "loan_prediction = loan_prediction.dropna()"
   ]
  },
  {
   "cell_type": "code",
   "execution_count": 23,
   "id": "cebade0e",
   "metadata": {},
   "outputs": [
    {
     "data": {
      "text/plain": [
       "Id                              0\n",
       "Home_Ownership                  0\n",
       "Annual_Income                   0\n",
       "Years_in_current_job            0\n",
       "Tax_Liens                       0\n",
       "Number_of_Open_Accounts         0\n",
       "Years_of_Credit_History         0\n",
       "Maximum_Open_Credit             0\n",
       "Number_of_Credit_Problems       0\n",
       "Months_since_last_delinquent    0\n",
       "Bankruptcies                    0\n",
       "Purpose                         0\n",
       "Term                            0\n",
       "Current_Loan_Amount             0\n",
       "Current_Credit_Balance          0\n",
       "Monthly_Debt                    0\n",
       "Credit_Score                    0\n",
       "Credit_Default                  0\n",
       "dtype: int64"
      ]
     },
     "execution_count": 23,
     "metadata": {},
     "output_type": "execute_result"
    }
   ],
   "source": [
    "loan_prediction.isnull().sum()"
   ]
  },
  {
   "cell_type": "code",
   "execution_count": 24,
   "id": "e7699e3d",
   "metadata": {},
   "outputs": [
    {
     "data": {
      "text/plain": [
       "(7129, 18)"
      ]
     },
     "execution_count": 24,
     "metadata": {},
     "output_type": "execute_result"
    }
   ],
   "source": [
    "loan_prediction.shape"
   ]
  },
  {
   "cell_type": "code",
   "execution_count": 25,
   "id": "a5ae0a63",
   "metadata": {},
   "outputs": [],
   "source": [
    "import seaborn as sns "
   ]
  },
  {
   "cell_type": "code",
   "execution_count": 26,
   "id": "e29e0d16",
   "metadata": {},
   "outputs": [
    {
     "data": {
      "text/plain": [
       "<AxesSubplot:xlabel='Id', ylabel='Credit_Default'>"
      ]
     },
     "execution_count": 26,
     "metadata": {},
     "output_type": "execute_result"
    },
    {
     "data": {
      "image/png": "[encoded data removed]",
      "text/plain": [
       "<Figure size 432x288 with 1 Axes>"
      ]
     },
     "metadata": {
      "needs_background": "light"
     },
     "output_type": "display_data"
    }
   ],
   "source": [
    "sns.scatterplot(y='Credit_Default',x='Id', data=loan_prediction)"
   ]
  },
  {
   "cell_type": "code",
   "execution_count": 27,
   "id": "f8caf7ff",
   "metadata": {},
   "outputs": [
    {
     "data": {
      "text/plain": [
       "<AxesSubplot:xlabel='Annual_Income', ylabel='Credit_Default'>"
      ]
     },
     "execution_count": 27,
     "metadata": {},
     "output_type": "execute_result"
    },
    {
     "data": {
      "image/png": "[encoded data removed]",
      "text/plain": [
       "<Figure size 432x288 with 1 Axes>"
      ]
     },
     "metadata": {
      "needs_background": "light"
     },
     "output_type": "display_data"
    }
   ],
   "source": [
    "sns.scatterplot(y='Credit_Default',x='Annual_Income', data=loan_prediction)"
   ]
  },
  {
   "cell_type": "code",
   "execution_count": 39,
   "id": "9fac59dd",
   "metadata": {},
   "outputs": [],
   "source": [
    "X = loan_prediction.drop (['Credit_Default','Id','Home_Ownership','Years_in_current_job','Purpose','Term'], axis='columns')"
   ]
  },
  {
   "cell_type": "code",
   "execution_count": 43,
   "id": "23e0ba46",
   "metadata": {},
   "outputs": [
    {
     "data": {
      "text/html": [
       "<div>\n",
       "<style scoped>\n",
       "    .dataframe tbody tr th:only-of-type {\n",
       "        vertical-align: middle;\n",
       "    }\n",
       "\n",
       "    .dataframe tbody tr th {\n",
       "        vertical-align: top;\n",
       "    }\n",
       "\n",
       "    .dataframe thead th {\n",
       "        text-align: right;\n",
       "    }\n",
       "</style>\n",
       "<table border=\"1\" class=\"dataframe\">\n",
       "  <thead>\n",
       "    <tr style=\"text-align: right;\">\n",
       "      <th></th>\n",
       "      <th>Annual_Income</th>\n",
       "      <th>Tax_Liens</th>\n",
       "      <th>Number_of_Open_Accounts</th>\n",
       "      <th>Years_of_Credit_History</th>\n",
       "      <th>Maximum_Open_Credit</th>\n",
       "      <th>Number_of_Credit_Problems</th>\n",
       "      <th>Months_since_last_delinquent</th>\n",
       "      <th>Bankruptcies</th>\n",
       "      <th>Current_Loan_Amount</th>\n",
       "      <th>Current_Credit_Balance</th>\n",
       "      <th>Monthly_Debt</th>\n",
       "      <th>Credit_Score</th>\n",
       "    </tr>\n",
       "  </thead>\n",
       "  <tbody>\n",
       "    <tr>\n",
       "      <th>1</th>\n",
       "      <td>1025487.0</td>\n",
       "      <td>0</td>\n",
       "      <td>15</td>\n",
       "      <td>15.3</td>\n",
       "      <td>1181730</td>\n",
       "      <td>0</td>\n",
       "      <td>32.0</td>\n",
       "      <td>0.0</td>\n",
       "      <td>264968</td>\n",
       "      <td>394972</td>\n",
       "      <td>18373</td>\n",
       "      <td>737.0</td>\n",
       "    </tr>\n",
       "    <tr>\n",
       "      <th>2</th>\n",
       "      <td>751412.0</td>\n",
       "      <td>0</td>\n",
       "      <td>11</td>\n",
       "      <td>35.0</td>\n",
       "      <td>1182434</td>\n",
       "      <td>0</td>\n",
       "      <td>32.0</td>\n",
       "      <td>0.0</td>\n",
       "      <td>99999999</td>\n",
       "      <td>308389</td>\n",
       "      <td>13651</td>\n",
       "      <td>742.0</td>\n",
       "    </tr>\n",
       "    <tr>\n",
       "      <th>3</th>\n",
       "      <td>805068.0</td>\n",
       "      <td>0</td>\n",
       "      <td>8</td>\n",
       "      <td>22.5</td>\n",
       "      <td>147400</td>\n",
       "      <td>1</td>\n",
       "      <td>32.0</td>\n",
       "      <td>1.0</td>\n",
       "      <td>121396</td>\n",
       "      <td>95855</td>\n",
       "      <td>11338</td>\n",
       "      <td>694.0</td>\n",
       "    </tr>\n",
       "    <tr>\n",
       "      <th>4</th>\n",
       "      <td>776264.0</td>\n",
       "      <td>0</td>\n",
       "      <td>13</td>\n",
       "      <td>13.6</td>\n",
       "      <td>385836</td>\n",
       "      <td>1</td>\n",
       "      <td>32.0</td>\n",
       "      <td>0.0</td>\n",
       "      <td>125840</td>\n",
       "      <td>93309</td>\n",
       "      <td>7180</td>\n",
       "      <td>719.0</td>\n",
       "    </tr>\n",
       "    <tr>\n",
       "      <th>5</th>\n",
       "      <td>1168386.0</td>\n",
       "      <td>0</td>\n",
       "      <td>12</td>\n",
       "      <td>14.6</td>\n",
       "      <td>366784</td>\n",
       "      <td>0</td>\n",
       "      <td>32.0</td>\n",
       "      <td>0.0</td>\n",
       "      <td>337304</td>\n",
       "      <td>165680</td>\n",
       "      <td>18692</td>\n",
       "      <td>731.0</td>\n",
       "    </tr>\n",
       "  </tbody>\n",
       "</table>\n",
       "</div>"
      ],
      "text/plain": [
       "   Annual_Income  Tax_Liens  Number_of_Open_Accounts  Years_of_Credit_History  \\\n",
       "1      1025487.0          0                       15                     15.3   \n",
       "2       751412.0          0                       11                     35.0   \n",
       "3       805068.0          0                        8                     22.5   \n",
       "4       776264.0          0                       13                     13.6   \n",
       "5      1168386.0          0                       12                     14.6   \n",
       "\n",
       "   Maximum_Open_Credit  Number_of_Credit_Problems  \\\n",
       "1              1181730                          0   \n",
       "2              1182434                          0   \n",
       "3               147400                          1   \n",
       "4               385836                          1   \n",
       "5               366784                          0   \n",
       "\n",
       "   Months_since_last_delinquent  Bankruptcies  Current_Loan_Amount  \\\n",
       "1                          32.0           0.0               264968   \n",
       "2                          32.0           0.0             99999999   \n",
       "3                          32.0           1.0               121396   \n",
       "4                          32.0           0.0               125840   \n",
       "5                          32.0           0.0               337304   \n",
       "\n",
       "   Current_Credit_Balance  Monthly_Debt  Credit_Score  \n",
       "1                  394972         18373         737.0  \n",
       "2                  308389         13651         742.0  \n",
       "3                   95855         11338         694.0  \n",
       "4                   93309          7180         719.0  \n",
       "5                  165680         18692         731.0  "
      ]
     },
     "execution_count": 43,
     "metadata": {},
     "output_type": "execute_result"
    }
   ],
   "source": [
    "X.head()"
   ]
  },
  {
   "cell_type": "code",
   "execution_count": 40,
   "id": "ae7ee47e",
   "metadata": {},
   "outputs": [],
   "source": [
    "Y = loan_prediction.Credit_Default"
   ]
  },
  {
   "cell_type": "code",
   "execution_count": 41,
   "id": "c567c875",
   "metadata": {},
   "outputs": [
    {
     "data": {
      "text/plain": [
       "DecisionTreeClassifier()"
      ]
     },
     "execution_count": 41,
     "metadata": {},
     "output_type": "execute_result"
    }
   ],
   "source": [
    "from sklearn import tree\n",
    "model = tree.DecisionTreeClassifier(criterion='gini')\n",
    "model.fit(X,Y)"
   ]
  },
  {
   "cell_type": "code",
   "execution_count": 42,
   "id": "db6c49ef",
   "metadata": {},
   "outputs": [
    {
     "data": {
      "text/plain": [
       "1.0"
      ]
     },
     "execution_count": 42,
     "metadata": {},
     "output_type": "execute_result"
    }
   ],
   "source": [
    "model.score(X, Y)"
   ]
  },
  {
   "cell_type": "code",
   "execution_count": 48,
   "id": "cd4b6412",
   "metadata": {},
   "outputs": [],
   "source": [
    "loan_prediction_test = pd.read_csv ('Loan.test.csv')"
   ]
  },
  {
   "cell_type": "code",
   "execution_count": 52,
   "id": "32191ee5",
   "metadata": {},
   "outputs": [
    {
     "data": {
      "text/plain": [
       "0.0"
      ]
     },
     "execution_count": 52,
     "metadata": {},
     "output_type": "execute_result"
    }
   ],
   "source": [
    "loan_prediction_test.Bankruptcies.median()"
   ]
  },
  {
   "cell_type": "code",
   "execution_count": 53,
   "id": "605740a7",
   "metadata": {},
   "outputs": [],
   "source": [
    "loan_prediction_test.Bankruptcies=loan_prediction_test.Bankruptcies.fillna(loan_prediction_test.Bankruptcies.median())"
   ]
  },
  {
   "cell_type": "code",
   "execution_count": 55,
   "id": "10a6eca2",
   "metadata": {},
   "outputs": [
    {
     "data": {
      "text/plain": [
       "1178475.0"
      ]
     },
     "execution_count": 55,
     "metadata": {},
     "output_type": "execute_result"
    }
   ],
   "source": [
    "loan_prediction_test.Annual_Income.median()"
   ]
  },
  {
   "cell_type": "code",
   "execution_count": 56,
   "id": "3a0d4d80",
   "metadata": {},
   "outputs": [
    {
     "data": {
      "text/plain": [
       "30.0"
      ]
     },
     "execution_count": 56,
     "metadata": {},
     "output_type": "execute_result"
    }
   ],
   "source": [
    "loan_prediction_test.Months_since_last_delinquent.median()"
   ]
  },
  {
   "cell_type": "code",
   "execution_count": 57,
   "id": "15292b01",
   "metadata": {},
   "outputs": [
    {
     "data": {
      "text/plain": [
       "731.0"
      ]
     },
     "execution_count": 57,
     "metadata": {},
     "output_type": "execute_result"
    }
   ],
   "source": [
    "loan_prediction_test.Credit_Score.median()"
   ]
  },
  {
   "cell_type": "code",
   "execution_count": 58,
   "id": "68e68b8a",
   "metadata": {},
   "outputs": [],
   "source": [
    "loan_prediction_test.Annual_Income=loan_prediction_test.Annual_Income.fillna(loan_prediction_test.Annual_Income.median())"
   ]
  },
  {
   "cell_type": "code",
   "execution_count": 60,
   "id": "5fb88042",
   "metadata": {},
   "outputs": [],
   "source": [
    "loan_prediction_test.Months_since_last_delinquent=loan_prediction_test.Months_since_last_delinquent.fillna(loan_prediction_test.Months_since_last_delinquent.median())"
   ]
  },
  {
   "cell_type": "code",
   "execution_count": 59,
   "id": "766a49c9",
   "metadata": {},
   "outputs": [],
   "source": [
    "loan_prediction_test.Credit_Score=loan_prediction_test.Credit_Score.fillna(loan_prediction_test.Credit_Score.median())"
   ]
  },
  {
   "cell_type": "code",
   "execution_count": 61,
   "id": "6ff1c691",
   "metadata": {},
   "outputs": [],
   "source": [
    "loan_prediction_test = loan_prediction.dropna()"
   ]
  },
  {
   "cell_type": "code",
   "execution_count": 65,
   "id": "92b8eb96",
   "metadata": {},
   "outputs": [],
   "source": [
    "X_test_data = loan_prediction_test.drop (['Id','Home_Ownership','Years_in_current_job','Purpose','Term'], axis='columns')"
   ]
  },
  {
   "cell_type": "code",
   "execution_count": 66,
   "id": "2c16d52b",
   "metadata": {},
   "outputs": [
    {
     "ename": "ValueError",
     "evalue": "X has 13 features, but DecisionTreeClassifier is expecting 12 features as input.",
     "output_type": "error",
     "traceback": [
      "\u001b[1;31m---------------------------------------------------------------------------\u001b[0m",
      "\u001b[1;31mValueError\u001b[0m                                Traceback (most recent call last)",
      "\u001b[1;32m~\\AppData\\Local\\Temp/ipykernel_16420/824067762.py\u001b[0m in \u001b[0;36m<module>\u001b[1;34m\u001b[0m\n\u001b[1;32m----> 1\u001b[1;33m \u001b[0mmodel\u001b[0m\u001b[1;33m.\u001b[0m\u001b[0mscore\u001b[0m\u001b[1;33m(\u001b[0m\u001b[0mX_test_data\u001b[0m\u001b[1;33m,\u001b[0m \u001b[0mY\u001b[0m\u001b[1;33m)\u001b[0m\u001b[1;33m\u001b[0m\u001b[1;33m\u001b[0m\u001b[0m\n\u001b[0m",
      "\u001b[1;32mC:\\ProgramData\\Anaconda3\\lib\\site-packages\\sklearn\\base.py\u001b[0m in \u001b[0;36mscore\u001b[1;34m(self, X, y, sample_weight)\u001b[0m\n\u001b[0;32m    498\u001b[0m         \"\"\"\n\u001b[0;32m    499\u001b[0m         \u001b[1;32mfrom\u001b[0m \u001b[1;33m.\u001b[0m\u001b[0mmetrics\u001b[0m \u001b[1;32mimport\u001b[0m \u001b[0maccuracy_score\u001b[0m\u001b[1;33m\u001b[0m\u001b[1;33m\u001b[0m\u001b[0m\n\u001b[1;32m--> 500\u001b[1;33m         \u001b[1;32mreturn\u001b[0m \u001b[0maccuracy_score\u001b[0m\u001b[1;33m(\u001b[0m\u001b[0my\u001b[0m\u001b[1;33m,\u001b[0m \u001b[0mself\u001b[0m\u001b[1;33m.\u001b[0m\u001b[0mpredict\u001b[0m\u001b[1;33m(\u001b[0m\u001b[0mX\u001b[0m\u001b[1;33m)\u001b[0m\u001b[1;33m,\u001b[0m \u001b[0msample_weight\u001b[0m\u001b[1;33m=\u001b[0m\u001b[0msample_weight\u001b[0m\u001b[1;33m)\u001b[0m\u001b[1;33m\u001b[0m\u001b[1;33m\u001b[0m\u001b[0m\n\u001b[0m\u001b[0;32m    501\u001b[0m \u001b[1;33m\u001b[0m\u001b[0m\n\u001b[0;32m    502\u001b[0m     \u001b[1;32mdef\u001b[0m \u001b[0m_more_tags\u001b[0m\u001b[1;33m(\u001b[0m\u001b[0mself\u001b[0m\u001b[1;33m)\u001b[0m\u001b[1;33m:\u001b[0m\u001b[1;33m\u001b[0m\u001b[1;33m\u001b[0m\u001b[0m\n",
      "\u001b[1;32mC:\\ProgramData\\Anaconda3\\lib\\site-packages\\sklearn\\tree\\_classes.py\u001b[0m in \u001b[0;36mpredict\u001b[1;34m(self, X, check_input)\u001b[0m\n\u001b[0;32m    440\u001b[0m         \"\"\"\n\u001b[0;32m    441\u001b[0m         \u001b[0mcheck_is_fitted\u001b[0m\u001b[1;33m(\u001b[0m\u001b[0mself\u001b[0m\u001b[1;33m)\u001b[0m\u001b[1;33m\u001b[0m\u001b[1;33m\u001b[0m\u001b[0m\n\u001b[1;32m--> 442\u001b[1;33m         \u001b[0mX\u001b[0m \u001b[1;33m=\u001b[0m \u001b[0mself\u001b[0m\u001b[1;33m.\u001b[0m\u001b[0m_validate_X_predict\u001b[0m\u001b[1;33m(\u001b[0m\u001b[0mX\u001b[0m\u001b[1;33m,\u001b[0m \u001b[0mcheck_input\u001b[0m\u001b[1;33m)\u001b[0m\u001b[1;33m\u001b[0m\u001b[1;33m\u001b[0m\u001b[0m\n\u001b[0m\u001b[0;32m    443\u001b[0m         \u001b[0mproba\u001b[0m \u001b[1;33m=\u001b[0m \u001b[0mself\u001b[0m\u001b[1;33m.\u001b[0m\u001b[0mtree_\u001b[0m\u001b[1;33m.\u001b[0m\u001b[0mpredict\u001b[0m\u001b[1;33m(\u001b[0m\u001b[0mX\u001b[0m\u001b[1;33m)\u001b[0m\u001b[1;33m\u001b[0m\u001b[1;33m\u001b[0m\u001b[0m\n\u001b[0;32m    444\u001b[0m         \u001b[0mn_samples\u001b[0m \u001b[1;33m=\u001b[0m \u001b[0mX\u001b[0m\u001b[1;33m.\u001b[0m\u001b[0mshape\u001b[0m\u001b[1;33m[\u001b[0m\u001b[1;36m0\u001b[0m\u001b[1;33m]\u001b[0m\u001b[1;33m\u001b[0m\u001b[1;33m\u001b[0m\u001b[0m\n",
      "\u001b[1;32mC:\\ProgramData\\Anaconda3\\lib\\site-packages\\sklearn\\tree\\_classes.py\u001b[0m in \u001b[0;36m_validate_X_predict\u001b[1;34m(self, X, check_input)\u001b[0m\n\u001b[0;32m    405\u001b[0m         \u001b[1;34m\"\"\"Validate the training data on predict (probabilities).\"\"\"\u001b[0m\u001b[1;33m\u001b[0m\u001b[1;33m\u001b[0m\u001b[0m\n\u001b[0;32m    406\u001b[0m         \u001b[1;32mif\u001b[0m \u001b[0mcheck_input\u001b[0m\u001b[1;33m:\u001b[0m\u001b[1;33m\u001b[0m\u001b[1;33m\u001b[0m\u001b[0m\n\u001b[1;32m--> 407\u001b[1;33m             X = self._validate_data(X, dtype=DTYPE, accept_sparse=\"csr\",\n\u001b[0m\u001b[0;32m    408\u001b[0m                                     reset=False)\n\u001b[0;32m    409\u001b[0m             if issparse(X) and (X.indices.dtype != np.intc or\n",
      "\u001b[1;32mC:\\ProgramData\\Anaconda3\\lib\\site-packages\\sklearn\\base.py\u001b[0m in \u001b[0;36m_validate_data\u001b[1;34m(self, X, y, reset, validate_separately, **check_params)\u001b[0m\n\u001b[0;32m    435\u001b[0m \u001b[1;33m\u001b[0m\u001b[0m\n\u001b[0;32m    436\u001b[0m         \u001b[1;32mif\u001b[0m \u001b[0mcheck_params\u001b[0m\u001b[1;33m.\u001b[0m\u001b[0mget\u001b[0m\u001b[1;33m(\u001b[0m\u001b[1;34m'ensure_2d'\u001b[0m\u001b[1;33m,\u001b[0m \u001b[1;32mTrue\u001b[0m\u001b[1;33m)\u001b[0m\u001b[1;33m:\u001b[0m\u001b[1;33m\u001b[0m\u001b[1;33m\u001b[0m\u001b[0m\n\u001b[1;32m--> 437\u001b[1;33m             \u001b[0mself\u001b[0m\u001b[1;33m.\u001b[0m\u001b[0m_check_n_features\u001b[0m\u001b[1;33m(\u001b[0m\u001b[0mX\u001b[0m\u001b[1;33m,\u001b[0m \u001b[0mreset\u001b[0m\u001b[1;33m=\u001b[0m\u001b[0mreset\u001b[0m\u001b[1;33m)\u001b[0m\u001b[1;33m\u001b[0m\u001b[1;33m\u001b[0m\u001b[0m\n\u001b[0m\u001b[0;32m    438\u001b[0m \u001b[1;33m\u001b[0m\u001b[0m\n\u001b[0;32m    439\u001b[0m         \u001b[1;32mreturn\u001b[0m \u001b[0mout\u001b[0m\u001b[1;33m\u001b[0m\u001b[1;33m\u001b[0m\u001b[0m\n",
      "\u001b[1;32mC:\\ProgramData\\Anaconda3\\lib\\site-packages\\sklearn\\base.py\u001b[0m in \u001b[0;36m_check_n_features\u001b[1;34m(self, X, reset)\u001b[0m\n\u001b[0;32m    363\u001b[0m \u001b[1;33m\u001b[0m\u001b[0m\n\u001b[0;32m    364\u001b[0m         \u001b[1;32mif\u001b[0m \u001b[0mn_features\u001b[0m \u001b[1;33m!=\u001b[0m \u001b[0mself\u001b[0m\u001b[1;33m.\u001b[0m\u001b[0mn_features_in_\u001b[0m\u001b[1;33m:\u001b[0m\u001b[1;33m\u001b[0m\u001b[1;33m\u001b[0m\u001b[0m\n\u001b[1;32m--> 365\u001b[1;33m             raise ValueError(\n\u001b[0m\u001b[0;32m    366\u001b[0m                 \u001b[1;34mf\"X has {n_features} features, but {self.__class__.__name__} \"\u001b[0m\u001b[1;33m\u001b[0m\u001b[1;33m\u001b[0m\u001b[0m\n\u001b[0;32m    367\u001b[0m                 f\"is expecting {self.n_features_in_} features as input.\")\n",
      "\u001b[1;31mValueError\u001b[0m: X has 13 features, but DecisionTreeClassifier is expecting 12 features as input."
     ]
    }
   ],
   "source": [
    "model.score(X_test_data, Y)"
   ]
  },
  {
   "cell_type": "code",
   "execution_count": null,
   "id": "1528f202",
   "metadata": {},
   "outputs": [],
   "source": []
  },
  {
   "cell_type": "code",
   "execution_count": null,
   "id": "dcadb4f2",
   "metadata": {},
   "outputs": [],
   "source": []
  }
 ],
 "metadata": {
  "kernelspec": {
   "display_name": "Python 3 (ipykernel)",
   "language": "python",
   "name": "python3"
  },
  "language_info": {
   "codemirror_mode": {
    "name": "ipython",
    "version": 3
   },
   "file_extension": ".py",
   "mimetype": "text/x-python",
   "name": "python",
   "nbconvert_exporter": "python",
   "pygments_lexer": "ipython3",
   "version": "3.9.7"
  }
 },
 "nbformat": 4,
 "nbformat_minor": 5
}
